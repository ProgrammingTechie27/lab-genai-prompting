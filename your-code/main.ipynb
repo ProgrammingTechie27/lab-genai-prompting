{
 "cells": [
  {
   "cell_type": "markdown",
   "metadata": {
    "vscode": {
     "languageId": "plaintext"
    }
   },
   "source": [
    "# LAB | GenAI: Exploring Prompting Techniques for Customer Support Automation"
   ]
  },
  {
   "cell_type": "markdown",
   "metadata": {},
   "source": [
    "## Tasks\n",
    "\n",
    "**Objective:**\n",
    "\n",
    "Learn and apply different prompting techniques to improve the performance of a language model in generating customer support responses.\n",
    "\n",
    "**Business Case:**\n",
    "\n",
    "Imagine you are working for a company that provides a variety of services, including technical support, billing inquiries, and general customer service. Your task is to use a language model to automate responses to customer emails.\n",
    "\n",
    "**Dataset:**\n",
    "\n",
    "Download the FAQ of a company to do this exercise. Below you have a couple of examples, but feel free to find your own:\n",
    " - https://info.undp.org/erecruit/documents/FAQ.pdf\n",
    " - https://www.cambridgeenglish.org/Images/696254-faqs-digital-cambridge-english-qualifications.pdf\n",
    " - https://www.wscc.nt.ca/sites/default/files/documents/0009-518-Item-04-INDESIGN-FAQ-Template%203%20-%20MINUS%20FIRST%20QUESTION.pdf\n",
    "\n",
    "\n",
    "### Task 1\n",
    "\n",
    "Download and Read the PDF:\n",
    "\n",
    "  - Choose one of the provided FAQ PDFs or find your own relevant FAQ document.\n",
    "  - Read through the FAQ document carefully to understand the types of questions and answers it contains.\n",
    "  - Create Questions Based on the PDF ( you can use ChatGPT for this)\n",
    "    - Generate a list of potential customer questions that could be answered using the information from the FAQ PDF.\n",
    "    - Ensure your questions cover a variety of topics and difficulty levels found within the document.\n",
    "    - Generate Responses Using Different Prompting Techniques:\n",
    "\n",
    "Use a language model (such as ChatGPT) to generate responses to your questions.\n",
    "Experiment with different prompting techniques to see how they affect the quality of the responses."
   ]
  },
  {
   "cell_type": "markdown",
   "metadata": {},
   "source": [
    "## Types of prompting\n",
    "\n",
    "For each of the types prompting, perform the following:\n",
    " - Research what the type of prompting is\n",
    " - Create a small explaination of the prompting\n",
    " - Test your type of prompting vs the control prompt (direct question)"
   ]
  },
  {
   "cell_type": "code",
   "execution_count": 5,
   "metadata": {},
   "outputs": [],
   "source": [
    "#! pip install python-dotenv"
   ]
  },
  {
   "cell_type": "code",
   "execution_count": 13,
   "metadata": {},
   "outputs": [],
   "source": [
    "from dotenv import load_dotenv\n",
    "import os\n",
    "\n",
    "# Load the environment variables from the .env file\n",
    "load_dotenv(dotenv_path='openaikey.env')\n",
    "\n",
    "# Get the API key from the environment variable\n",
    "openai_api_key = os.getenv(\"OPENAI_API_KEY\")"
   ]
  },
  {
   "cell_type": "code",
   "execution_count": 17,
   "metadata": {},
   "outputs": [],
   "source": [
    "import openai"
   ]
  },
  {
   "cell_type": "code",
   "execution_count": 25,
   "metadata": {},
   "outputs": [],
   "source": [
    "def get_completions(prompt, model=\"gpt-4-turbo\", temperature=0.7, max_tokens=200, top_p=1.0, frequency_penalty=0, presence_penalty=0, n=1):\n",
    "    messages = [{\"role\": \"user\", \"content\": prompt}]\n",
    "    \n",
    "    response = openai.chat.completions.create(\n",
    "        model=model,\n",
    "        messages=messages,\n",
    "        temperature=temperature,\n",
    "        max_tokens=max_tokens,\n",
    "        top_p=top_p,\n",
    "        frequency_penalty=frequency_penalty,\n",
    "        presence_penalty=presence_penalty,\n",
    "        n=n\n",
    "    )\n",
    "    \n",
    "    return response.choices[0].message.content"
   ]
  },
  {
   "cell_type": "markdown",
   "metadata": {
    "vscode": {
     "languageId": "plaintext"
    }
   },
   "source": [
    "### Zero-Shot Prompting\n",
    "\n",
    "Use the knowledge base to create prompts without examples.\n",
    "Test the model's ability to generate accurate responses based solely on the provided instructions.\n",
    "Assess the performance compared to few-shot prompting."
   ]
  },
  {
   "cell_type": "code",
   "execution_count": 31,
   "metadata": {},
   "outputs": [
    {
     "name": "stdout",
     "output_type": "stream",
     "text": [
      "As of my last update in January 2023, the United Nations Development Programme (UNDP) typically recommends using up-to-date versions of popular web browsers for accessing their eRecruit system. Commonly supported browsers include Google Chrome, Mozilla Firefox, Microsoft Edge, and Apple Safari. It's important to ensure that your browser is current to maintain compatibility and security when accessing online platforms like eRecruit.\n",
      "\n",
      "However, for the most accurate and specific information regarding browser compatibility with UNDP’s eRecruit system, I would recommend checking directly with UNDP’s support or help documentation, as these details can change over time with updates to the system or the browsers themselves.\n"
     ]
    }
   ],
   "source": [
    "prompt = \"What browsers are compatible with UNDP’s eRecruit system?\"\n",
    "response = get_completions(prompt)\n",
    "print(response)"
   ]
  },
  {
   "cell_type": "markdown",
   "metadata": {
    "vscode": {
     "languageId": "plaintext"
    }
   },
   "source": [
    "### Few-Shot Prompting\n",
    "\n",
    "Select a few representative emails from each category.\n",
    "Create prompts by including these examples and ask the model to generate responses for new emails.\n",
    "Evaluate the quality and relevance of the responses."
   ]
  },
  {
   "cell_type": "code",
   "execution_count": 29,
   "metadata": {},
   "outputs": [
    {
     "name": "stdout",
     "output_type": "stream",
     "text": [
      "For assistance with UNDP's eRecruit system, you can check the support or help section on the UNDP career website. If you are unable to resolve the issue yourself, you may also contact their technical support or human resources department for further assistance. Make sure to provide specific details about the problem you are encountering to receive the best possible help.\n"
     ]
    }
   ],
   "source": [
    "prompt = \"\"\"\n",
    "Here are some frequently asked questions and answers:\n",
    "Q: How do I apply for a job at UNDP?\n",
    "A: All applications must be submitted online using UNDP’s eRecruit system.\n",
    "\n",
    "Q: What should I do if I can’t log in?\n",
    "A: Ensure you're using a compatible browser and clear your cache if necessary.\n",
    "\n",
    "Now, answer this question:\n",
    "Q: Where can I get help with UNDP’s eRecruit system?\n",
    "\"\"\"\n",
    "response = get_completions(prompt)\n",
    "print(response)"
   ]
  },
  {
   "cell_type": "markdown",
   "metadata": {},
   "source": [
    "### Chain of Thought Prompting\n",
    "\n",
    "Develop prompts that guide the model to think through the problem step-by-step before providing the final answer.\n",
    "Analyze if this approach improves the quality of technical support responses.\n"
   ]
  },
  {
   "cell_type": "code",
   "execution_count": 33,
   "metadata": {},
   "outputs": [
    {
     "name": "stdout",
     "output_type": "stream",
     "text": [
      "It can be frustrating when you're unable to log into important accounts like your UNDP eRecruit profile, especially if your browser is not responding. Here are some step-by-step solutions that might help resolve your issue:\n",
      "\n",
      "### 1. Identify Possible Reasons for the Issue:\n",
      "- **Browser Problems**: The issue might be related to your web browser. It could be due to outdated software, overloaded cache and cookies, or extensions that interfere with the site.\n",
      "- **Internet Connection**: A slow or unstable internet connection can also cause the page not to load correctly.\n",
      "- **UNDP Site Issues**: Occasionally, the website itself might be down or undergoing maintenance.\n",
      "\n",
      "### 2. Provide Troubleshooting Steps:\n",
      "#### Step 1: Refresh Your Browser\n",
      "- Try refreshing your browser or opening the page in a different tab.\n",
      "\n",
      "#### Step 2: Clear Browser Cache and Cookies\n",
      "- Clear your browser’s cache and cookies. Here’s how you can do it on most browsers:\n",
      "  1. Go\n"
     ]
    }
   ],
   "source": [
    "prompt = \"\"\"\n",
    "I am having trouble logging into my UNDP eRecruit profile. My browser is not responding. What should I do?\n",
    "\n",
    "Think step by step before answering:\n",
    "1. Identify possible reasons for the issue.\n",
    "2. Provide troubleshooting steps.\n",
    "3. Suggest additional resources if needed.\n",
    "\"\"\"\n",
    "response = get_completions(prompt)\n",
    "print(response)"
   ]
  },
  {
   "cell_type": "markdown",
   "metadata": {},
   "source": [
    "### Instruction-Based Prompting\n",
    "\n",
    "Write clear and explicit instructions in the prompts for each type of customer inquiry.\n",
    "Measure the effectiveness of detailed instructions in guiding the model."
   ]
  },
  {
   "cell_type": "code",
   "execution_count": 35,
   "metadata": {},
   "outputs": [
    {
     "name": "stdout",
     "output_type": "stream",
     "text": [
      "UNDP’s eRecruit system is compatible with several web browsers, but for optimal performance, it is recommended to use the latest versions of Google Chrome or Mozilla Firefox. Additionally, the system can also be accessed using Internet Explorer 11. However, users may experience better functionality and fewer issues with the recommended browsers.\n"
     ]
    }
   ],
   "source": [
    "prompt = \"\"\"\n",
    "You are an AI assistant trained to answer questions about UNDP’s eRecruit system.\n",
    "Please provide a concise and professional answer to the following question:\n",
    "\n",
    "\"What browsers are compatible with UNDP’s eRecruit system?\"\n",
    "\"\"\"\n",
    "response = get_completions(prompt)\n",
    "print(response)\n"
   ]
  },
  {
   "cell_type": "markdown",
   "metadata": {},
   "source": [
    "### Role-Playing Prompting\n",
    "\n",
    "Ask the model to respond as a customer service representative or technical support expert.\n",
    "Evaluate how well the model adopts the role and provides relevant information."
   ]
  },
  {
   "cell_type": "code",
   "execution_count": 37,
   "metadata": {},
   "outputs": [
    {
     "name": "stdout",
     "output_type": "stream",
     "text": [
      "Hello,\n",
      "\n",
      "Thank you for reaching out and I'm sorry to hear that you're experiencing issues with logging into your profile. Let's try to resolve this together.\n",
      "\n",
      "Firstly, it might help to clear your browser's cache and cookies as these can sometimes cause the page to freeze. If you're unsure how to do this, I can guide you through the steps for your specific browser.\n",
      "\n",
      "Additionally, I recommend trying to access the eRecruit system using a different browser or a different device altogether to see if the issue persists. This can help us determine if the problem is browser-specific.\n",
      "\n",
      "If the issue continues, could you please provide me with any error messages you see or more details about the point at which the browser freezes? This information will help us in diagnosing the problem more accurately.\n",
      "\n",
      "Looking forward to your response so we can get this sorted out as soon as possible.\n",
      "\n",
      "Best regards,\n",
      "\n",
      "[Your Name]\n",
      "UNDP IT Support\n"
     ]
    }
   ],
   "source": [
    "prompt = \"\"\"\n",
    "You are a UNDP IT support agent. A frustrated job applicant is struggling to log in to the eRecruit system. \n",
    "\n",
    "Stay professional, empathetic, and helpful. Here’s their complaint:  \n",
    "\"I can’t log into my profile. The browser just freezes!\"  \n",
    "\n",
    "How would you respond?\n",
    "\"\"\"\n",
    "response = get_completions(prompt)\n",
    "print(response)"
   ]
  },
  {
   "cell_type": "markdown",
   "metadata": {},
   "source": [
    "### Contextual Prompting\n",
    "\n",
    "Provide relevant context from previous email threads or the knowledge base before posing the main question.\n",
    "Test if providing context improves the accuracy and relevance of the responses."
   ]
  },
  {
   "cell_type": "code",
   "execution_count": 39,
   "metadata": {},
   "outputs": [
    {
     "name": "stdout",
     "output_type": "stream",
     "text": [
      "To address the issue of not being able to log in to UNDP's eRecruit system, you should first ensure that you are using a compatible web browser. The system works best with Google Chrome or Internet Explorer version 6 and above. If you are not using one of these browsers, I recommend switching to one of them.\n",
      "\n",
      "If you are already using a compatible browser and still facing login issues, try clearing your browser's cache. This can often resolve problems related to loading and logging into websites. Here’s how you can clear the cache:\n",
      "\n",
      "- For Google Chrome: Go to the menu (three dots in the upper right corner), select 'More tools', and then 'Clear browsing data'. Choose the time range to clear (e.g., \"All time\" to clear everything) and check the boxes for 'Cookies and other site data' and 'Cached images and files'. Then click 'Clear data'.\n",
      "- For Internet Explorer: Click on the gear icon in the upper right corner, select\n"
     ]
    }
   ],
   "source": [
    "prompt = \"\"\"\n",
    "UNDP’s eRecruit system works best on Google Chrome and Internet Explorer 6 and above.\n",
    "Users facing login issues should try clearing their browser cache and ensuring they are using a compatible browser.\n",
    "\n",
    "Given this information, how would you answer a user who asks:  \n",
    "\"Why can’t I log in to UNDP’s eRecruit system?\"\n",
    "\"\"\"\n",
    "response = get_completions(prompt)\n",
    "print(response)"
   ]
  },
  {
   "cell_type": "markdown",
   "metadata": {},
   "source": [
    "### Conversational Prompting\n",
    "\n",
    "Create a dialogue-style prompt where the model continues an ongoing conversation with the customer.\n",
    "Observe how well the model maintains context and coherence in multi-turn conversations."
   ]
  },
  {
   "cell_type": "code",
   "execution_count": 69,
   "metadata": {},
   "outputs": [],
   "source": [
    "# Store conversation in list\n",
    "conversation_history = [\n",
    "    {\"role\": \"system\", \"content\": \"You are a helpful assistant who provides support for the UNDP eRecruit system.\"}\n",
    "]\n",
    "\n",
    "# Define function that has chat with model\n",
    "def chat_with_model(user_input):\n",
    "    # Append user's input to conversation history\n",
    "    conversation_history.append({\"role\": \"user\", \"content\": user_input})\n",
    "\n",
    "    # Call the OpenAI API\n",
    "    response = openai.chat.completions.create(\n",
    "        model=\"gpt-4-turbo\",\n",
    "        messages=conversation_history,\n",
    "        temperature=0.7\n",
    "    )\n",
    "\n",
    "    # Extract and store the assistant's response\n",
    "    bot_response = bot_response = response.choices[0].message.content\n",
    "    conversation_history.append({\"role\": \"assistant\", \"content\": bot_response})\n",
    "\n",
    "    return bot_response"
   ]
  },
  {
   "cell_type": "code",
   "execution_count": 71,
   "metadata": {},
   "outputs": [
    {
     "name": "stdout",
     "output_type": "stream",
     "text": [
      "If you are experiencing difficulty logging into your UNDP eRecruit profile, here are some steps you can follow to resolve the issue:\n",
      "\n",
      "1. **Check Username and Password**: Ensure that you are entering the correct username and password. Keep in mind that passwords are case-sensitive.\n",
      "\n",
      "2. **Reset Password**: If you've forgotten your password, you can reset it by clicking on the \"Forgot Password\" link on the login page. You will need to provide the email address associated with your account to receive instructions on how to reset your password.\n",
      "\n",
      "3. **Browser Issues**: Try clearing your browser's cache and cookies. Sometimes, outdated or corrupted cache data can prevent login pages from working correctly. Also, ensure that you are using a supported browser and that it is up to date.\n",
      "\n",
      "4. **Security Settings and Firewall**: Check if your browser’s security settings are too high or if a firewall is blocking access to the eRecruit system.\n",
      "\n",
      "5. **Caps Lock and Keyboard Settings**: Verify that the Caps Lock is off, as passwords are case-sensitive. Also, ensure your keyboard is set to the correct language.\n",
      "\n",
      "6. **Contact Support**: If you have tried all the above steps and still cannot log in, you may need to contact the UNDP support team for further assistance. You can usually do this by finding the ‘Contact Us’ or support email address on the UNDP eRecruit webpage. Provide them with details of the issue you are facing, any error messages you are seeing, and what steps you have already tried.\n",
      "\n",
      "By following these steps, you should be able to resolve most issues related to logging into your UNDP eRecruit profile.\n"
     ]
    }
   ],
   "source": [
    "user_input = \"I am unable to log into my profile. What should I do?\"\n",
    "response = chat_with_model(user_input)\n",
    "print(response)"
   ]
  },
  {
   "cell_type": "code",
   "execution_count": 73,
   "metadata": {},
   "outputs": [
    {
     "name": "stdout",
     "output_type": "stream",
     "text": [
      "If clearing your cache did not resolve the login issue with your UNDP eRecruit profile, here are a few additional steps you can try:\n",
      "\n",
      "1. **Different Browser or Device**: Sometimes the issue might be specific to the browser or device you are using. Try accessing your profile from a different browser or another device altogether. This can help determine if the problem is related to the browser or compatibility issues.\n",
      "\n",
      "2. **Disable Browser Extensions**: Certain browser extensions can interfere with web pages. Try disabling extensions, particularly those that involve security or script blocking, to see if this resolves the issue.\n",
      "\n",
      "3. **Update Your Browser**: Ensure that your browser is up-to-date. Older versions of browsers may not be compatible with newer web technologies used by some websites, including UNDP eRecruit.\n",
      "\n",
      "4. **Use Incognito Mode**: Try logging in using the incognito or private browsing mode of your browser. This mode disables most extensions automatically and doesn’t use the same cache or cookies, which can sometimes help bypass issues caused by stored data.\n",
      "\n",
      "5. **Network Issues**: Check your internet connection to ensure it is stable and fast enough. Sometimes, slow or unstable connections can cause timeout errors during the login process.\n",
      "\n",
      "6. **Security Software**: Temporarily disable any antivirus or firewall software to check if they are blocking the site. Be sure to turn it back on after testing.\n",
      "\n",
      "7. **Contact Technical Support**: If none of these steps work, it’s best to contact UNDP technical support. Provide them with details such as the browser and version you are using, the error messages displayed (if any), and the troubleshooting steps you have already attempted. They may provide additional insights or solutions specific to their system.\n",
      "\n",
      "To contact the UNDP support, look for contact information on the UNDP website or directly through the eRecruit portal, typically under \"Contact Us\" or similar sections. This could include an email address, phone number, or even a support ticket system.\n"
     ]
    }
   ],
   "source": [
    "user_input = \"I cleared my cache, but it still doesn't work. What else can I try?\"\n",
    "response = chat_with_model(user_input)\n",
    "print(response)"
   ]
  },
  {
   "cell_type": "code",
   "execution_count": 75,
   "metadata": {},
   "outputs": [
    {
     "name": "stdout",
     "output_type": "stream",
     "text": [
      "For optimal performance and compatibility with the UNDP eRecruit system, it is recommended to use modern and up-to-date web browsers. Generally, the system is designed to work well with the following browsers:\n",
      "\n",
      "1. **Google Chrome**: Often considered the most reliable choice for most web applications, including eRecruit. Ensure you have the latest version installed.\n",
      "\n",
      "2. **Mozilla Firefox**: Another robust option that frequently updates to support the latest web standards.\n",
      "\n",
      "3. **Microsoft Edge**: The latest versions of Edge (based on Chromium) should work well with eRecruit.\n",
      "\n",
      "4. **Safari**: For macOS users, Safari is a good option, but make sure it is updated to the latest version.\n",
      "\n",
      "It is important to keep your browser updated to the latest version not only for compatibility reasons but also to ensure that security features are up to date. Avoid using older browsers such as Internet Explorer, as they may not support the modern functionalities used by eRecruit and other updated web applications.\n",
      "\n",
      "Additionally, after updating or switching browsers, make sure to clear your cache and cookies to avoid any residual issues from previous sessions. This can often resolve unexpected behavior on web pages.\n"
     ]
    }
   ],
   "source": [
    "user_input = \"Which browsers work best with the system?\"\n",
    "response = chat_with_model(user_input)\n",
    "print(response)"
   ]
  },
  {
   "cell_type": "markdown",
   "metadata": {},
   "source": [
    "### Contrastive Prompting\n",
    "\n",
    "Show the model examples of both good and bad responses.\n",
    "Use these contrasting examples to guide the model towards generating better responses.\n",
    "Compare the results with other techniques."
   ]
  },
  {
   "cell_type": "code",
   "execution_count": 41,
   "metadata": {},
   "outputs": [
    {
     "name": "stdout",
     "output_type": "stream",
     "text": [
      "1️⃣ **Formal and Professional Response:**\n",
      "The United Nations Development Programme's eRecruit system is designed to be accessible and user-friendly. It is compatible with several widely-used web browsers to ensure effective functionality. For optimal performance, it is recommended to use the latest versions of Google Chrome, Mozilla Firefox, or Safari. Users utilizing Microsoft Edge or Internet Explorer should ensure they are using the most recent updates to avoid any compatibility issues. As browser technologies are continually updated, maintaining the latest version of your browser will provide the best experience with the eRecruit system.\n",
      "\n",
      "2️⃣ **Casual and Friendly Response:**\n",
      "Hey there! If you're planning to use the UNDP’s eRecruit system, you’re in luck because it works well with most of the popular browsers. Just make sure you’re using the latest versions of Chrome, Firefox, or Safari for the smoothest experience. Got Edge or Internet Explorer? Those should work too, but just double-check that\n"
     ]
    }
   ],
   "source": [
    "prompt = \"\"\"\n",
    "Generate two different responses for the question:  \n",
    "\"What browsers are compatible with UNDP’s eRecruit system?\"  \n",
    "\n",
    "1️⃣ One response should be **formal and professional**.  \n",
    "2️⃣ The other should be **casual and friendly**.\n",
    "\"\"\"\n",
    "response = get_completions(prompt)\n",
    "print(response)"
   ]
  },
  {
   "cell_type": "markdown",
   "metadata": {},
   "source": [
    "### Specificity Prompting\n",
    "\n",
    "Ask the model to respond with a specific style, tone, or level of detail, such as formal, friendly, or concise.\n",
    "Assess how well the model adapts its responses to the specified requirements."
   ]
  },
  {
   "cell_type": "code",
   "execution_count": 43,
   "metadata": {},
   "outputs": [
    {
     "name": "stdout",
     "output_type": "stream",
     "text": [
      "**Supported Browsers:**  \n",
      "- Google Chrome (latest version)  \n",
      "- Mozilla Firefox (latest version)  \n",
      "- Microsoft Edge (latest version)  \n",
      "- Apple Safari (latest version on macOS)\n",
      "\n",
      "**Recommended Browser Mode:**  \n",
      "- It is recommended to use these browsers in their standard configuration without modifications. Ensure that JavaScript and cookies are enabled.\n",
      "\n",
      "**Troubleshooting Steps:**  \n",
      "1. **Clear Browser Cache and Cookies:** Sometimes, clearing your browser's cache and cookies can resolve login issues.\n",
      "2. **Update Browser:** Ensure that your browser is updated to the latest version, as older versions may not be supported.\n",
      "3. **Enable JavaScript and Cookies:** Make sure JavaScript and cookies are enabled in your browser settings.\n",
      "4. **Disable Browser Extensions:** Some browser extensions can interfere with web applications. Try disabling extensions to see if that resolves the issue.\n",
      "5. **Try a Different Browser:** If issues persist in one browser, attempt to access the system using another supported browser to see if the issue is\n"
     ]
    }
   ],
   "source": [
    "prompt = \"\"\"\n",
    "You are a UNDP support chatbot. Answer the following question in a structured format.\n",
    "\n",
    "**Question:** What browsers are compatible with UNDP’s eRecruit system?\n",
    "\n",
    "**Response Format:**  \n",
    "- **Supported Browsers:** [List of supported browsers]  \n",
    "- **Recommended Browser Mode:** [If applicable]  \n",
    "- **Troubleshooting Steps:** [If login issues occur]  \n",
    "\"\"\"\n",
    "response = get_completions(prompt)\n",
    "print(response)\n"
   ]
  },
  {
   "cell_type": "markdown",
   "metadata": {},
   "source": [
    "### Iterative Refinement Prompting\n",
    "\n",
    "Ask the model to refine or improve upon its previous response.\n",
    "Experiment with multiple iterations to see if responses improve over time."
   ]
  },
  {
   "cell_type": "code",
   "execution_count": 55,
   "metadata": {},
   "outputs": [
    {
     "name": "stdout",
     "output_type": "stream",
     "text": [
      "Initial Response:\n",
      " Users might encounter difficulties logging into the UNDP (United Nations Development Programme) eRecruit system for various reasons. Below are some common issues that could contribute to login problems:\n",
      "\n",
      "1. **Forgotten Password or Username**: This is a common issue where users forget their credentials. Most systems, including the UNDP eRecruit, typically offer options to recover or reset passwords.\n",
      "\n",
      "2. **Account Lockout**: If there are multiple unsuccessful attempts to log in, the system might automatically lock the account to prevent unauthorized access. This is a security measure that could inconvenience legitimate users who have forgotten their login details.\n",
      "\n",
      "3. **Browser Compatibility Issues**: The eRecruit system may not function optimally across all web browsers. Users experiencing problems might need to try accessing the system with different browsers, or ensure their current browser is up-to-date.\n",
      "\n",
      "4. **Internet Connectivity**: Poor or unstable internet connections can disrupt access to online platforms like eRecruit. Ensuring a stable connection might resolve login issues.\n",
      "\n",
      "5\n",
      "\n",
      "Refined Response:\n",
      " Refined Response:\n",
      "\n",
      "Users may face challenges when attempting to log into the UNDP (United Nations Development Programme) eRecruit system. These challenges can stem from a variety of factors. Below, we detail common issues along with troubleshooting steps to help you successfully access the system:\n",
      "\n",
      "1. **Forgotten Password or Username**: This is a frequent problem where users can't recall their login credentials. The UNDP eRecruit system provides a user-friendly mechanism for password and username recovery:\n",
      "   - Navigate to the login page and click on \"Forgot Password\" or \"Forgot Username.\"\n",
      "   - Follow the prompts to enter your registered email address.\n",
      "   - You’ll receive an email with instructions to reset your password or recover your username. Be sure to check your spam or junk mail folder if you don't see this email in your inbox.\n",
      "\n",
      "2. **Account Lockout**: After several failed login attempts, the eRecruit system may lock your account as a security measure to thwart potential unauthorized access. To resolve\n",
      "\n",
      "User-Friendly Response:\n",
      " Having trouble logging into the UNDP (United Nations Development Programme) eRecruit system? Here are some easy steps to fix common login issues:\n",
      "\n",
      "1. **Forgot Your Password or Username?**\n",
      "   - Go to the login page and click on \"Forgot Password\" or \"Forgot Username.\"\n",
      "   - Type in your email address that you used to register.\n",
      "   - Check your email for instructions on how to reset your password or retrieve your username. Don't forget to look in your spam or junk mail folder if you can't find the email.\n",
      "\n",
      "2. **Account Locked?**\n",
      "   - If you enter your password incorrectly too many times, your account will be locked for security. To fix this, just follow the steps for resetting your password, as described above. This usually unlocks your account too.\n",
      "\n",
      "These steps should help you get back into your account smoothly. If you're still having trouble, don't hesitate to reach out for more help!\n"
     ]
    }
   ],
   "source": [
    "# Step 1: Initial Response\n",
    "prompt1 = \"Explain why some users might have trouble logging into the UNDP eRecruit system.\"\n",
    "response1 = get_completions(prompt1)\n",
    "print(\"Initial Response:\\n\", response1)\n",
    "\n",
    "# Step 2: Refinement\n",
    "prompt2 = f\"\"\"\n",
    "Revise the following response to be more detailed. Include troubleshooting steps and mention specific browser compatibility issues.\n",
    "\n",
    "Response to refine:\n",
    "{response1}\n",
    "\"\"\"\n",
    "response2 = get_completions(prompt2)\n",
    "print(\"\\nRefined Response:\\n\", response2)\n",
    "\n",
    "# Step 3: Style Adjustment\n",
    "prompt3 = f\"\"\"\n",
    "Rewrite the following response to be **simpler and more user-friendly**, suitable for non-technical users.\n",
    "\n",
    "Response to simplify:\n",
    "{response2}\n",
    "\"\"\"\n",
    "response3 = get_completions(prompt3)\n",
    "print(\"\\nUser-Friendly Response:\\n\", response3)\n"
   ]
  },
  {
   "cell_type": "code",
   "execution_count": null,
   "metadata": {},
   "outputs": [],
   "source": []
  }
 ],
 "metadata": {
  "kernelspec": {
   "display_name": "Python 3 (ipykernel)",
   "language": "python",
   "name": "python3"
  },
  "language_info": {
   "codemirror_mode": {
    "name": "ipython",
    "version": 3
   },
   "file_extension": ".py",
   "mimetype": "text/x-python",
   "name": "python",
   "nbconvert_exporter": "python",
   "pygments_lexer": "ipython3",
   "version": "3.12.7"
  }
 },
 "nbformat": 4,
 "nbformat_minor": 4
}
